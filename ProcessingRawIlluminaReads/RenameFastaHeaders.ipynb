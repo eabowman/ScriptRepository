{
 "cells": [
  {
   "cell_type": "code",
   "execution_count": 3,
   "metadata": {},
   "outputs": [],
   "source": [
    "import os\n",
    "import re\n",
    "import fileinput"
   ]
  },
  {
   "cell_type": "code",
   "execution_count": 6,
   "metadata": {},
   "outputs": [
    {
     "data": {
      "text/plain": [
       "'/Users/eabowman/Desktop/tempIllumina'"
      ]
     },
     "execution_count": 6,
     "metadata": {},
     "output_type": "execute_result"
    }
   ],
   "source": [
    "os.getcwd()"
   ]
  },
  {
   "cell_type": "code",
   "execution_count": 5,
   "metadata": {},
   "outputs": [],
   "source": [
    "os.chdir('/Users/eabowman/Desktop/tempIllumina/')"
   ]
  },
  {
   "cell_type": "code",
   "execution_count": 7,
   "metadata": {},
   "outputs": [],
   "source": [
    "#files = ['MockE1','MockE2','MockE3','MockE4','MockE5','MockEvenNew','MockEvenOld','MockNeg1','MockNeg2','MockNeg3','MockT1','MockT2','MockT3','MockT4','MockT5','MockTieredNew','MockTieredOld']\n",
    "files = [\"B11\",\"B12\",\"B21\",\"B22\",\"B31\",\"C11\",\"C12\",\"C13\",\"C14\",\"C21\",\"C22\",\"C23\",\"C32\",\"C33\",\"M22\",\"C34\",\"M31\",\"ExtBlank1\",\"ExtBlank2\",\"NTC1A\",\"H11\",\"NTC1B\",\"H12\",\"P11\",\"H21\",\"P12\",\"H22\",\"P21\",\"H31\",\"P22\",\"M11\",\"P31\",\"M12\",\"M21\",\"B12n\",\"Ext_blankn_3\",\"LB048\",\"N25\",\"C14n\",\"LB009\",\"M21n\",\"N32\",\"C23n\",\"LB011\",\"N11\",\"NTCn_1\",\"Ext_blankn_1\",\"LB031\",\"N13\",\"NTCn_2\",\"Ext_blankn_2\",\"LB033\",\"N24\",\"NTCn_3\"]"
   ]
  },
  {
   "cell_type": "code",
   "execution_count": 9,
   "metadata": {},
   "outputs": [],
   "source": [
    "# Remove white space for multiple files with file names listed in the files object\n",
    "for i in files:\n",
    "    filetemp = 'filtered_' + i + '_ITS1.fa'\n",
    "    with open(filetemp, 'r') as file:\n",
    "        filedata = file.read()\n",
    "    \n",
    "    filedata = filedata.replace('\\n','')\n",
    "    filedata = filedata.replace('|','\\n')\n",
    "    filedata = filedata.replace('>','\\n>')\n",
    "\n",
    "    with open (filetemp, 'w') as file:\n",
    "        file.write(filedata)\n",
    "     "
   ]
  },
  {
   "cell_type": "code",
   "execution_count": 11,
   "metadata": {},
   "outputs": [],
   "source": [
    "# Trying to figure out how to remove numbers and replace with sample number only and add |\n",
    "with open('test.fa','r') as file:\n",
    "    filedata = file.read()\n",
    "\n",
    "# remove sequential numbers from headers within fasta file \n",
    "#header = re.compiler(r'^>\\w+')\n",
    "for line in filedata:\n",
    "    headerReplace = '>MockE1|'\n",
    "    filedata = re.sub(r'>\\w+',headerReplace, line)\n",
    "\n",
    "with open ('test.fa', 'w') as file:\n",
    "    file.write(filedata)"
   ]
  },
  {
   "cell_type": "code",
   "execution_count": 6,
   "metadata": {},
   "outputs": [],
   "source": [
    "with open('test.fa','r') as file:\n",
    "    filedata = file.read()\n",
    "# remove white space\n",
    "filedata = filedata.replace('\\n','')\n",
    "filedata = filedata.replace('|','\\n')\n",
    "filedata = filedata.replace('>','\\n>')\n",
    "\n",
    "with open ('test.fa', 'w') as file:\n",
    "    file.write(filedata)"
   ]
  },
  {
   "cell_type": "code",
   "execution_count": 17,
   "metadata": {},
   "outputs": [],
   "source": [
    "# For a single file\n",
    "filedata = open('filtered_ITS2.fasta', 'r').read()"
   ]
  },
  {
   "cell_type": "code",
   "execution_count": 18,
   "metadata": {},
   "outputs": [],
   "source": [
    "filedata = filedata.replace('\\n','')\n",
    "filedata = filedata.replace('|','\\n')\n",
    "filedata = filedata.replace('>','\\n>')"
   ]
  },
  {
   "cell_type": "code",
   "execution_count": 19,
   "metadata": {},
   "outputs": [
    {
     "data": {
      "text/plain": [
       "309255598"
      ]
     },
     "execution_count": 19,
     "metadata": {},
     "output_type": "execute_result"
    }
   ],
   "source": [
    "open('filtered_ITS2.fasta','w').write(filedata)"
   ]
  },
  {
   "cell_type": "code",
   "execution_count": null,
   "metadata": {},
   "outputs": [],
   "source": []
  }
 ],
 "metadata": {
  "kernelspec": {
   "display_name": "Python 3",
   "language": "python",
   "name": "python3"
  },
  "language_info": {
   "codemirror_mode": {
    "name": "ipython",
    "version": 3
   },
   "file_extension": ".py",
   "mimetype": "text/x-python",
   "name": "python",
   "nbconvert_exporter": "python",
   "pygments_lexer": "ipython3",
   "version": "3.6.4"
  }
 },
 "nbformat": 4,
 "nbformat_minor": 2
}
